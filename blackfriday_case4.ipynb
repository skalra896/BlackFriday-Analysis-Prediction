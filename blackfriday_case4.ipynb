{
 "cells": [
  {
   "cell_type": "code",
   "execution_count": 56,
   "metadata": {},
   "outputs": [],
   "source": [
    "import numpy as np\n",
    "import pandas as pd"
   ]
  },
  {
   "cell_type": "code",
   "execution_count": 57,
   "metadata": {},
   "outputs": [],
   "source": [
    "train = pd.read_csv('train.csv')"
   ]
  },
  {
   "cell_type": "code",
   "execution_count": 58,
   "metadata": {},
   "outputs": [
    {
     "data": {
      "text/html": [
       "<div>\n",
       "<style>\n",
       "    .dataframe thead tr:only-child th {\n",
       "        text-align: right;\n",
       "    }\n",
       "\n",
       "    .dataframe thead th {\n",
       "        text-align: left;\n",
       "    }\n",
       "\n",
       "    .dataframe tbody tr th {\n",
       "        vertical-align: top;\n",
       "    }\n",
       "</style>\n",
       "<table border=\"1\" class=\"dataframe\">\n",
       "  <thead>\n",
       "    <tr style=\"text-align: right;\">\n",
       "      <th></th>\n",
       "      <th>User_ID</th>\n",
       "      <th>Product_ID</th>\n",
       "      <th>Gender</th>\n",
       "      <th>Age</th>\n",
       "      <th>Occupation</th>\n",
       "      <th>City_Category</th>\n",
       "      <th>Stay_In_Current_City_Years</th>\n",
       "      <th>Marital_Status</th>\n",
       "      <th>Product_Category_1</th>\n",
       "      <th>Product_Category_2</th>\n",
       "      <th>Product_Category_3</th>\n",
       "      <th>Purchase</th>\n",
       "    </tr>\n",
       "  </thead>\n",
       "  <tbody>\n",
       "    <tr>\n",
       "      <th>0</th>\n",
       "      <td>1000001</td>\n",
       "      <td>P00069042</td>\n",
       "      <td>F</td>\n",
       "      <td>0-17</td>\n",
       "      <td>10</td>\n",
       "      <td>A</td>\n",
       "      <td>2</td>\n",
       "      <td>0</td>\n",
       "      <td>3</td>\n",
       "      <td>NaN</td>\n",
       "      <td>NaN</td>\n",
       "      <td>8370</td>\n",
       "    </tr>\n",
       "    <tr>\n",
       "      <th>1</th>\n",
       "      <td>1000001</td>\n",
       "      <td>P00248942</td>\n",
       "      <td>F</td>\n",
       "      <td>0-17</td>\n",
       "      <td>10</td>\n",
       "      <td>A</td>\n",
       "      <td>2</td>\n",
       "      <td>0</td>\n",
       "      <td>1</td>\n",
       "      <td>6.0</td>\n",
       "      <td>14.0</td>\n",
       "      <td>15200</td>\n",
       "    </tr>\n",
       "    <tr>\n",
       "      <th>2</th>\n",
       "      <td>1000001</td>\n",
       "      <td>P00087842</td>\n",
       "      <td>F</td>\n",
       "      <td>0-17</td>\n",
       "      <td>10</td>\n",
       "      <td>A</td>\n",
       "      <td>2</td>\n",
       "      <td>0</td>\n",
       "      <td>12</td>\n",
       "      <td>NaN</td>\n",
       "      <td>NaN</td>\n",
       "      <td>1422</td>\n",
       "    </tr>\n",
       "    <tr>\n",
       "      <th>3</th>\n",
       "      <td>1000001</td>\n",
       "      <td>P00085442</td>\n",
       "      <td>F</td>\n",
       "      <td>0-17</td>\n",
       "      <td>10</td>\n",
       "      <td>A</td>\n",
       "      <td>2</td>\n",
       "      <td>0</td>\n",
       "      <td>12</td>\n",
       "      <td>14.0</td>\n",
       "      <td>NaN</td>\n",
       "      <td>1057</td>\n",
       "    </tr>\n",
       "    <tr>\n",
       "      <th>4</th>\n",
       "      <td>1000002</td>\n",
       "      <td>P00285442</td>\n",
       "      <td>M</td>\n",
       "      <td>55+</td>\n",
       "      <td>16</td>\n",
       "      <td>C</td>\n",
       "      <td>4+</td>\n",
       "      <td>0</td>\n",
       "      <td>8</td>\n",
       "      <td>NaN</td>\n",
       "      <td>NaN</td>\n",
       "      <td>7969</td>\n",
       "    </tr>\n",
       "  </tbody>\n",
       "</table>\n",
       "</div>"
      ],
      "text/plain": [
       "   User_ID Product_ID Gender   Age  Occupation City_Category  \\\n",
       "0  1000001  P00069042      F  0-17          10             A   \n",
       "1  1000001  P00248942      F  0-17          10             A   \n",
       "2  1000001  P00087842      F  0-17          10             A   \n",
       "3  1000001  P00085442      F  0-17          10             A   \n",
       "4  1000002  P00285442      M   55+          16             C   \n",
       "\n",
       "  Stay_In_Current_City_Years  Marital_Status  Product_Category_1  \\\n",
       "0                          2               0                   3   \n",
       "1                          2               0                   1   \n",
       "2                          2               0                  12   \n",
       "3                          2               0                  12   \n",
       "4                         4+               0                   8   \n",
       "\n",
       "   Product_Category_2  Product_Category_3  Purchase  \n",
       "0                 NaN                 NaN      8370  \n",
       "1                 6.0                14.0     15200  \n",
       "2                 NaN                 NaN      1422  \n",
       "3                14.0                 NaN      1057  \n",
       "4                 NaN                 NaN      7969  "
      ]
     },
     "execution_count": 58,
     "metadata": {},
     "output_type": "execute_result"
    }
   ],
   "source": [
    "train.head()\n"
   ]
  },
  {
   "cell_type": "code",
   "execution_count": 59,
   "metadata": {},
   "outputs": [],
   "source": [
    "test=pd.read_csv('test.csv')"
   ]
  },
  {
   "cell_type": "code",
   "execution_count": 60,
   "metadata": {},
   "outputs": [
    {
     "data": {
      "text/html": [
       "<div>\n",
       "<style>\n",
       "    .dataframe thead tr:only-child th {\n",
       "        text-align: right;\n",
       "    }\n",
       "\n",
       "    .dataframe thead th {\n",
       "        text-align: left;\n",
       "    }\n",
       "\n",
       "    .dataframe tbody tr th {\n",
       "        vertical-align: top;\n",
       "    }\n",
       "</style>\n",
       "<table border=\"1\" class=\"dataframe\">\n",
       "  <thead>\n",
       "    <tr style=\"text-align: right;\">\n",
       "      <th></th>\n",
       "      <th>User_ID</th>\n",
       "      <th>Product_ID</th>\n",
       "      <th>Gender</th>\n",
       "      <th>Age</th>\n",
       "      <th>Occupation</th>\n",
       "      <th>City_Category</th>\n",
       "      <th>Stay_In_Current_City_Years</th>\n",
       "      <th>Marital_Status</th>\n",
       "      <th>Product_Category_1</th>\n",
       "      <th>Product_Category_2</th>\n",
       "      <th>Product_Category_3</th>\n",
       "    </tr>\n",
       "  </thead>\n",
       "  <tbody>\n",
       "    <tr>\n",
       "      <th>0</th>\n",
       "      <td>1000004</td>\n",
       "      <td>P00128942</td>\n",
       "      <td>M</td>\n",
       "      <td>46-50</td>\n",
       "      <td>7</td>\n",
       "      <td>B</td>\n",
       "      <td>2</td>\n",
       "      <td>1</td>\n",
       "      <td>1</td>\n",
       "      <td>11.0</td>\n",
       "      <td>NaN</td>\n",
       "    </tr>\n",
       "    <tr>\n",
       "      <th>1</th>\n",
       "      <td>1000009</td>\n",
       "      <td>P00113442</td>\n",
       "      <td>M</td>\n",
       "      <td>26-35</td>\n",
       "      <td>17</td>\n",
       "      <td>C</td>\n",
       "      <td>0</td>\n",
       "      <td>0</td>\n",
       "      <td>3</td>\n",
       "      <td>5.0</td>\n",
       "      <td>NaN</td>\n",
       "    </tr>\n",
       "    <tr>\n",
       "      <th>2</th>\n",
       "      <td>1000010</td>\n",
       "      <td>P00288442</td>\n",
       "      <td>F</td>\n",
       "      <td>36-45</td>\n",
       "      <td>1</td>\n",
       "      <td>B</td>\n",
       "      <td>4+</td>\n",
       "      <td>1</td>\n",
       "      <td>5</td>\n",
       "      <td>14.0</td>\n",
       "      <td>NaN</td>\n",
       "    </tr>\n",
       "    <tr>\n",
       "      <th>3</th>\n",
       "      <td>1000010</td>\n",
       "      <td>P00145342</td>\n",
       "      <td>F</td>\n",
       "      <td>36-45</td>\n",
       "      <td>1</td>\n",
       "      <td>B</td>\n",
       "      <td>4+</td>\n",
       "      <td>1</td>\n",
       "      <td>4</td>\n",
       "      <td>9.0</td>\n",
       "      <td>NaN</td>\n",
       "    </tr>\n",
       "    <tr>\n",
       "      <th>4</th>\n",
       "      <td>1000011</td>\n",
       "      <td>P00053842</td>\n",
       "      <td>F</td>\n",
       "      <td>26-35</td>\n",
       "      <td>1</td>\n",
       "      <td>C</td>\n",
       "      <td>1</td>\n",
       "      <td>0</td>\n",
       "      <td>4</td>\n",
       "      <td>5.0</td>\n",
       "      <td>12.0</td>\n",
       "    </tr>\n",
       "  </tbody>\n",
       "</table>\n",
       "</div>"
      ],
      "text/plain": [
       "   User_ID Product_ID Gender    Age  Occupation City_Category  \\\n",
       "0  1000004  P00128942      M  46-50           7             B   \n",
       "1  1000009  P00113442      M  26-35          17             C   \n",
       "2  1000010  P00288442      F  36-45           1             B   \n",
       "3  1000010  P00145342      F  36-45           1             B   \n",
       "4  1000011  P00053842      F  26-35           1             C   \n",
       "\n",
       "  Stay_In_Current_City_Years  Marital_Status  Product_Category_1  \\\n",
       "0                          2               1                   1   \n",
       "1                          0               0                   3   \n",
       "2                         4+               1                   5   \n",
       "3                         4+               1                   4   \n",
       "4                          1               0                   4   \n",
       "\n",
       "   Product_Category_2  Product_Category_3  \n",
       "0                11.0                 NaN  \n",
       "1                 5.0                 NaN  \n",
       "2                14.0                 NaN  \n",
       "3                 9.0                 NaN  \n",
       "4                 5.0                12.0  "
      ]
     },
     "execution_count": 60,
     "metadata": {},
     "output_type": "execute_result"
    }
   ],
   "source": [
    "test.head()"
   ]
  },
  {
   "cell_type": "code",
   "execution_count": 61,
   "metadata": {},
   "outputs": [],
   "source": [
    "submission = pd.read_csv('Sample_Submission.csv')"
   ]
  },
  {
   "cell_type": "code",
   "execution_count": 62,
   "metadata": {},
   "outputs": [],
   "source": [
    "submission.head()\n",
    "test_to_check=submission['Purchase']\n",
    "test_to_check.to_csv(r'C:\\Users\\sk\\AnacondaProjects\\blackfriday\\test_to_check.csv')\n",
    "res=np.array(submission['Purchase'])"
   ]
  },
  {
   "cell_type": "code",
   "execution_count": 63,
   "metadata": {},
   "outputs": [
    {
     "name": "stdout",
     "output_type": "stream",
     "text": [
      "(550068, 12)\n",
      "(233599, 11)\n",
      "(233599, 3)\n"
     ]
    }
   ],
   "source": [
    "print(train.shape)\n",
    "print(test.shape)\n",
    "print(submission.shape)"
   ]
  },
  {
   "cell_type": "code",
   "execution_count": 64,
   "metadata": {},
   "outputs": [
    {
     "name": "stdout",
     "output_type": "stream",
     "text": [
      "(783667, 12)\n",
      "    Age City_Category Gender  Marital_Status  Occupation  Product_Category_1  \\\n",
      "0  0-17             A      F               0          10                   3   \n",
      "1  0-17             A      F               0          10                   1   \n",
      "2  0-17             A      F               0          10                  12   \n",
      "3  0-17             A      F               0          10                  12   \n",
      "4   55+             C      M               0          16                   8   \n",
      "\n",
      "   Product_Category_2  Product_Category_3 Product_ID  Purchase  \\\n",
      "0                 NaN                 NaN  P00069042    8370.0   \n",
      "1                 6.0                14.0  P00248942   15200.0   \n",
      "2                 NaN                 NaN  P00087842    1422.0   \n",
      "3                14.0                 NaN  P00085442    1057.0   \n",
      "4                 NaN                 NaN  P00285442    7969.0   \n",
      "\n",
      "  Stay_In_Current_City_Years  User_ID  \n",
      "0                          2  1000001  \n",
      "1                          2  1000001  \n",
      "2                          2  1000001  \n",
      "3                          2  1000001  \n",
      "4                         4+  1000002  \n"
     ]
    }
   ],
   "source": [
    "frames=[train,test]\n",
    "input=pd.concat(frames)\n",
    "input.to_csv(r'C:\\Users\\sk\\AnacondaProjects\\blackfriday\\input_total.csv')\n",
    "print (input.shape)\n",
    "print(input.head())"
   ]
  },
  {
   "cell_type": "code",
   "execution_count": 65,
   "metadata": {},
   "outputs": [
    {
     "data": {
      "text/html": [
       "<div>\n",
       "<style>\n",
       "    .dataframe thead tr:only-child th {\n",
       "        text-align: right;\n",
       "    }\n",
       "\n",
       "    .dataframe thead th {\n",
       "        text-align: left;\n",
       "    }\n",
       "\n",
       "    .dataframe tbody tr th {\n",
       "        vertical-align: top;\n",
       "    }\n",
       "</style>\n",
       "<table border=\"1\" class=\"dataframe\">\n",
       "  <thead>\n",
       "    <tr style=\"text-align: right;\">\n",
       "      <th></th>\n",
       "      <th>Age</th>\n",
       "      <th>City_Category</th>\n",
       "      <th>Gender</th>\n",
       "      <th>Marital_Status</th>\n",
       "      <th>Occupation</th>\n",
       "      <th>Product_Category_1</th>\n",
       "      <th>Product_Category_2</th>\n",
       "      <th>Product_Category_3</th>\n",
       "      <th>Product_ID</th>\n",
       "      <th>Purchase</th>\n",
       "      <th>Stay_In_Current_City_Years</th>\n",
       "      <th>User_ID</th>\n",
       "    </tr>\n",
       "  </thead>\n",
       "  <tbody>\n",
       "    <tr>\n",
       "      <th>0</th>\n",
       "      <td>0-17</td>\n",
       "      <td>A</td>\n",
       "      <td>F</td>\n",
       "      <td>0</td>\n",
       "      <td>10</td>\n",
       "      <td>3</td>\n",
       "      <td>NaN</td>\n",
       "      <td>NaN</td>\n",
       "      <td>P00069042</td>\n",
       "      <td>8370.0</td>\n",
       "      <td>2</td>\n",
       "      <td>1000001</td>\n",
       "    </tr>\n",
       "    <tr>\n",
       "      <th>1</th>\n",
       "      <td>0-17</td>\n",
       "      <td>A</td>\n",
       "      <td>F</td>\n",
       "      <td>0</td>\n",
       "      <td>10</td>\n",
       "      <td>1</td>\n",
       "      <td>6.0</td>\n",
       "      <td>14.0</td>\n",
       "      <td>P00248942</td>\n",
       "      <td>15200.0</td>\n",
       "      <td>2</td>\n",
       "      <td>1000001</td>\n",
       "    </tr>\n",
       "    <tr>\n",
       "      <th>2</th>\n",
       "      <td>0-17</td>\n",
       "      <td>A</td>\n",
       "      <td>F</td>\n",
       "      <td>0</td>\n",
       "      <td>10</td>\n",
       "      <td>12</td>\n",
       "      <td>NaN</td>\n",
       "      <td>NaN</td>\n",
       "      <td>P00087842</td>\n",
       "      <td>1422.0</td>\n",
       "      <td>2</td>\n",
       "      <td>1000001</td>\n",
       "    </tr>\n",
       "    <tr>\n",
       "      <th>3</th>\n",
       "      <td>0-17</td>\n",
       "      <td>A</td>\n",
       "      <td>F</td>\n",
       "      <td>0</td>\n",
       "      <td>10</td>\n",
       "      <td>12</td>\n",
       "      <td>14.0</td>\n",
       "      <td>NaN</td>\n",
       "      <td>P00085442</td>\n",
       "      <td>1057.0</td>\n",
       "      <td>2</td>\n",
       "      <td>1000001</td>\n",
       "    </tr>\n",
       "    <tr>\n",
       "      <th>4</th>\n",
       "      <td>55+</td>\n",
       "      <td>C</td>\n",
       "      <td>M</td>\n",
       "      <td>0</td>\n",
       "      <td>16</td>\n",
       "      <td>8</td>\n",
       "      <td>NaN</td>\n",
       "      <td>NaN</td>\n",
       "      <td>P00285442</td>\n",
       "      <td>7969.0</td>\n",
       "      <td>4+</td>\n",
       "      <td>1000002</td>\n",
       "    </tr>\n",
       "  </tbody>\n",
       "</table>\n",
       "</div>"
      ],
      "text/plain": [
       "    Age City_Category Gender  Marital_Status  Occupation  Product_Category_1  \\\n",
       "0  0-17             A      F               0          10                   3   \n",
       "1  0-17             A      F               0          10                   1   \n",
       "2  0-17             A      F               0          10                  12   \n",
       "3  0-17             A      F               0          10                  12   \n",
       "4   55+             C      M               0          16                   8   \n",
       "\n",
       "   Product_Category_2  Product_Category_3 Product_ID  Purchase  \\\n",
       "0                 NaN                 NaN  P00069042    8370.0   \n",
       "1                 6.0                14.0  P00248942   15200.0   \n",
       "2                 NaN                 NaN  P00087842    1422.0   \n",
       "3                14.0                 NaN  P00085442    1057.0   \n",
       "4                 NaN                 NaN  P00285442    7969.0   \n",
       "\n",
       "  Stay_In_Current_City_Years  User_ID  \n",
       "0                          2  1000001  \n",
       "1                          2  1000001  \n",
       "2                          2  1000001  \n",
       "3                          2  1000001  \n",
       "4                         4+  1000002  "
      ]
     },
     "execution_count": 65,
     "metadata": {},
     "output_type": "execute_result"
    }
   ],
   "source": [
    "input.head()\n"
   ]
  },
  {
   "cell_type": "code",
   "execution_count": 66,
   "metadata": {},
   "outputs": [
    {
     "data": {
      "text/plain": [
       "Age                            object\n",
       "City_Category                  object\n",
       "Gender                         object\n",
       "Marital_Status                  int64\n",
       "Occupation                      int64\n",
       "Product_Category_1              int64\n",
       "Product_Category_2            float64\n",
       "Product_Category_3            float64\n",
       "Product_ID                     object\n",
       "Purchase                      float64\n",
       "Stay_In_Current_City_Years     object\n",
       "User_ID                         int64\n",
       "dtype: object"
      ]
     },
     "execution_count": 66,
     "metadata": {},
     "output_type": "execute_result"
    }
   ],
   "source": [
    "input.dtypes"
   ]
  },
  {
   "cell_type": "code",
   "execution_count": 67,
   "metadata": {},
   "outputs": [],
   "source": [
    "input.fillna(999,inplace=True)"
   ]
  },
  {
   "cell_type": "code",
   "execution_count": 68,
   "metadata": {},
   "outputs": [
    {
     "data": {
      "text/html": [
       "<div>\n",
       "<style>\n",
       "    .dataframe thead tr:only-child th {\n",
       "        text-align: right;\n",
       "    }\n",
       "\n",
       "    .dataframe thead th {\n",
       "        text-align: left;\n",
       "    }\n",
       "\n",
       "    .dataframe tbody tr th {\n",
       "        vertical-align: top;\n",
       "    }\n",
       "</style>\n",
       "<table border=\"1\" class=\"dataframe\">\n",
       "  <thead>\n",
       "    <tr style=\"text-align: right;\">\n",
       "      <th></th>\n",
       "      <th>Age</th>\n",
       "      <th>City_Category</th>\n",
       "      <th>Gender</th>\n",
       "      <th>Marital_Status</th>\n",
       "      <th>Occupation</th>\n",
       "      <th>Product_Category_1</th>\n",
       "      <th>Product_Category_2</th>\n",
       "      <th>Product_Category_3</th>\n",
       "      <th>Product_ID</th>\n",
       "      <th>Purchase</th>\n",
       "      <th>Stay_In_Current_City_Years</th>\n",
       "      <th>User_ID</th>\n",
       "    </tr>\n",
       "  </thead>\n",
       "  <tbody>\n",
       "    <tr>\n",
       "      <th>0</th>\n",
       "      <td>0-17</td>\n",
       "      <td>A</td>\n",
       "      <td>F</td>\n",
       "      <td>0</td>\n",
       "      <td>10</td>\n",
       "      <td>3</td>\n",
       "      <td>999.0</td>\n",
       "      <td>999.0</td>\n",
       "      <td>P00069042</td>\n",
       "      <td>8370.0</td>\n",
       "      <td>2</td>\n",
       "      <td>1000001</td>\n",
       "    </tr>\n",
       "    <tr>\n",
       "      <th>1</th>\n",
       "      <td>0-17</td>\n",
       "      <td>A</td>\n",
       "      <td>F</td>\n",
       "      <td>0</td>\n",
       "      <td>10</td>\n",
       "      <td>1</td>\n",
       "      <td>6.0</td>\n",
       "      <td>14.0</td>\n",
       "      <td>P00248942</td>\n",
       "      <td>15200.0</td>\n",
       "      <td>2</td>\n",
       "      <td>1000001</td>\n",
       "    </tr>\n",
       "    <tr>\n",
       "      <th>2</th>\n",
       "      <td>0-17</td>\n",
       "      <td>A</td>\n",
       "      <td>F</td>\n",
       "      <td>0</td>\n",
       "      <td>10</td>\n",
       "      <td>12</td>\n",
       "      <td>999.0</td>\n",
       "      <td>999.0</td>\n",
       "      <td>P00087842</td>\n",
       "      <td>1422.0</td>\n",
       "      <td>2</td>\n",
       "      <td>1000001</td>\n",
       "    </tr>\n",
       "    <tr>\n",
       "      <th>3</th>\n",
       "      <td>0-17</td>\n",
       "      <td>A</td>\n",
       "      <td>F</td>\n",
       "      <td>0</td>\n",
       "      <td>10</td>\n",
       "      <td>12</td>\n",
       "      <td>14.0</td>\n",
       "      <td>999.0</td>\n",
       "      <td>P00085442</td>\n",
       "      <td>1057.0</td>\n",
       "      <td>2</td>\n",
       "      <td>1000001</td>\n",
       "    </tr>\n",
       "    <tr>\n",
       "      <th>4</th>\n",
       "      <td>55+</td>\n",
       "      <td>C</td>\n",
       "      <td>M</td>\n",
       "      <td>0</td>\n",
       "      <td>16</td>\n",
       "      <td>8</td>\n",
       "      <td>999.0</td>\n",
       "      <td>999.0</td>\n",
       "      <td>P00285442</td>\n",
       "      <td>7969.0</td>\n",
       "      <td>4+</td>\n",
       "      <td>1000002</td>\n",
       "    </tr>\n",
       "  </tbody>\n",
       "</table>\n",
       "</div>"
      ],
      "text/plain": [
       "    Age City_Category Gender  Marital_Status  Occupation  Product_Category_1  \\\n",
       "0  0-17             A      F               0          10                   3   \n",
       "1  0-17             A      F               0          10                   1   \n",
       "2  0-17             A      F               0          10                  12   \n",
       "3  0-17             A      F               0          10                  12   \n",
       "4   55+             C      M               0          16                   8   \n",
       "\n",
       "   Product_Category_2  Product_Category_3 Product_ID  Purchase  \\\n",
       "0               999.0               999.0  P00069042    8370.0   \n",
       "1                 6.0                14.0  P00248942   15200.0   \n",
       "2               999.0               999.0  P00087842    1422.0   \n",
       "3                14.0               999.0  P00085442    1057.0   \n",
       "4               999.0               999.0  P00285442    7969.0   \n",
       "\n",
       "  Stay_In_Current_City_Years  User_ID  \n",
       "0                          2  1000001  \n",
       "1                          2  1000001  \n",
       "2                          2  1000001  \n",
       "3                          2  1000001  \n",
       "4                         4+  1000002  "
      ]
     },
     "execution_count": 68,
     "metadata": {},
     "output_type": "execute_result"
    }
   ],
   "source": [
    "input.head()"
   ]
  },
  {
   "cell_type": "code",
   "execution_count": 69,
   "metadata": {},
   "outputs": [],
   "source": [
    "target=input.Purchase"
   ]
  },
  {
   "cell_type": "code",
   "execution_count": 70,
   "metadata": {},
   "outputs": [],
   "source": [
    "target=np.array(target)"
   ]
  },
  {
   "cell_type": "code",
   "execution_count": 71,
   "metadata": {},
   "outputs": [],
   "source": [
    "input.drop(['Purchase'],axis=1,inplace=True)"
   ]
  },
  {
   "cell_type": "code",
   "execution_count": 72,
   "metadata": {},
   "outputs": [
    {
     "name": "stdout",
     "output_type": "stream",
     "text": [
      "Index(['Age', 'City_Category', 'Gender', 'Marital_Status', 'Occupation',\n",
      "       'Product_Category_1', 'Product_Category_2', 'Product_Category_3',\n",
      "       'Product_ID', 'Stay_In_Current_City_Years', 'User_ID'],\n",
      "      dtype='object') Age                            object\n",
      "City_Category                  object\n",
      "Gender                         object\n",
      "Marital_Status                  int64\n",
      "Occupation                      int64\n",
      "Product_Category_1              int64\n",
      "Product_Category_2            float64\n",
      "Product_Category_3            float64\n",
      "Product_ID                     object\n",
      "Stay_In_Current_City_Years     object\n",
      "User_ID                         int64\n",
      "dtype: object\n"
     ]
    }
   ],
   "source": [
    "print(input.columns,input.dtypes)"
   ]
  },
  {
   "cell_type": "code",
   "execution_count": 73,
   "metadata": {},
   "outputs": [
    {
     "data": {
      "text/plain": [
       "Age                           object\n",
       "City_Category                 object\n",
       "Gender                        object\n",
       "Marital_Status                object\n",
       "Occupation                    object\n",
       "Product_Category_1            object\n",
       "Product_Category_2            object\n",
       "Product_Category_3            object\n",
       "Product_ID                    object\n",
       "Stay_In_Current_City_Years    object\n",
       "User_ID                       object\n",
       "dtype: object"
      ]
     },
     "execution_count": 73,
     "metadata": {},
     "output_type": "execute_result"
    }
   ],
   "source": [
    "input=input.applymap(str)\n",
    "input.dtypes"
   ]
  },
  {
   "cell_type": "code",
   "execution_count": 74,
   "metadata": {},
   "outputs": [],
   "source": [
    "input_pd=input.copy()"
   ]
  },
  {
   "cell_type": "code",
   "execution_count": 75,
   "metadata": {},
   "outputs": [],
   "source": [
    "from sklearn import preprocessing\n",
    "from sklearn.feature_extraction import DictVectorizer\n",
    "\n",
    "\n",
    "from sklearn.ensemble import RandomForestRegressor\n",
    "from sklearn.ensemble import ExtraTreesRegressor\n",
    "from sklearn import linear_model\n",
    "\n",
    "from sklearn.feature_extraction.text import TfidfTransformer\n",
    "\n",
    "from sklearn.cross_validation import KFold\n",
    "from sklearn.metrics import mean_squared_error"
   ]
  },
  {
   "cell_type": "code",
   "execution_count": 76,
   "metadata": {},
   "outputs": [],
   "source": [
    "input=np.array(input)\n",
    "\n",
    "for i in range(input.shape[1]):\n",
    "    lbl=preprocessing.LabelEncoder()\n",
    "    lbl.fit(list(input[:,i]))\n",
    "    input[:,i]=lbl.transform(input[:,i])"
   ]
  },
  {
   "cell_type": "code",
   "execution_count": 77,
   "metadata": {},
   "outputs": [
    {
     "name": "stdout",
     "output_type": "stream",
     "text": [
      "[6 2 1 0 8 18 17 15 2769 4 1]\n"
     ]
    }
   ],
   "source": [
    "print(input[4])"
   ]
  },
  {
   "cell_type": "code",
   "execution_count": 78,
   "metadata": {},
   "outputs": [],
   "source": [
    "input=input.astype(int)"
   ]
  },
  {
   "cell_type": "code",
   "execution_count": 79,
   "metadata": {},
   "outputs": [],
   "source": [
    "import xgboost as xgb\n",
    "#xgboost model"
   ]
  },
  {
   "cell_type": "code",
   "execution_count": 80,
   "metadata": {},
   "outputs": [],
   "source": [
    "params={}\n",
    "params['min_child_weight']=10\n",
    "params['subsample']=0.7\n",
    "params['colsample_bytree']=0.7\n",
    "params['scale_pos_weight']=0.8\n",
    "params['silent']=1\n",
    "params['max_depth']=6\n",
    "params['nthread']=6\n",
    "params['objective']='reg:linear'\n",
    "params['eta']=0.1\n",
    "params['base_score']=1800\n",
    "params['eval_metric']='rmse'\n",
    "params['seed']=0\n",
    "plst=list(params.items())\n",
    "num_rounds=300"
   ]
  },
  {
   "cell_type": "code",
   "execution_count": 81,
   "metadata": {},
   "outputs": [
    {
     "data": {
      "image/png": "[encoded data removed]",
      "text/plain": [
       "<matplotlib.figure.Figure at 0x1aa44afe550>"
      ]
     },
     "metadata": {},
     "output_type": "display_data"
    },
    {
     "data": {
      "text/plain": [
       "{'f0': 126083841.39129546,\n",
       " 'f1': 238378383.7134553,\n",
       " 'f10': 193910198.75650272,\n",
       " 'f2': 92954207.15447155,\n",
       " 'f3': 97840719.41645244,\n",
       " 'f4': 109823364.47848412,\n",
       " 'f5': 16769464181.98379,\n",
       " 'f6': 1144273232.8295887,\n",
       " 'f7': 865824058.9723403,\n",
       " 'f8': 684836281.6213766,\n",
       " 'f9': 102460940.94430234}"
      ]
     },
     "execution_count": 81,
     "metadata": {},
     "output_type": "execute_result"
    }
   ],
   "source": [
    "import matplotlib.pyplot as plt\n",
    "from xgboost import XGBClassifier, plot_importance\n",
    "xgtrain=xgb.DMatrix(input[:train.shape[0],:],label=target[:train.shape[0]])\n",
    "watchlist=[(xgtrain,'train')]\n",
    "model_1_xgboost=xgb.train(plst,xgtrain,num_rounds)\n",
    "plot_importance(model_1_xgboost)\n",
    "plt.show()\n",
    "'''print(model_1_xgboost.feature_importances_)\n",
    "plt.bar(range(len(model_1_xgboost.feature_importances_)),model_1_xgboost.feature_importances_)\n",
    "plt.show()'''\n",
    "model_1_xgboost.get_score(importance_type='gain')\n"
   ]
  },
  {
   "cell_type": "code",
   "execution_count": 82,
   "metadata": {},
   "outputs": [],
   "source": [
    "model_1_predict=model_1_xgboost.predict(xgb.DMatrix(input[train.shape[0]:,:]))\n",
    "model_1_predict[model_1_predict<0]=25\n",
    "submission.Purchase=model_1_predict\n",
    "#submission.to_csv('../submission/submit_13.csv',index=False)\n",
    "test_to_check=submission['Purchase']\n",
    "test_to_check.to_csv(r'C:\\Users\\sk\\AnacondaProjects\\blackfriday\\test_to_check.csv')"
   ]
  },
  {
   "cell_type": "code",
   "execution_count": 83,
   "metadata": {},
   "outputs": [
    {
     "name": "stdout",
     "output_type": "stream",
     "text": [
      "        User_ID Product_ID      Purchase\n",
      "0       1000004  P00128942  15300.768555\n",
      "1       1000009  P00113442  11046.294922\n",
      "2       1000010  P00288442   6833.807129\n",
      "3       1000010  P00145342   2857.034180\n",
      "4       1000011  P00053842   2299.368652\n",
      "5       1000013  P00350442  10489.735352\n",
      "6       1000013  P00155442  12089.356445\n",
      "7       1000013   P0094542   9814.919922\n",
      "8       1000015  P00161842  12556.844727\n",
      "9       1000022  P00067942   5222.706055\n",
      "10      1000026  P00046742  14146.349609\n",
      "11      1000026  P00040042   4620.926758\n",
      "12      1000026  P00196542   5893.847656\n",
      "13      1000026  P00004542   5579.830078\n",
      "14      1000028  P00159542  16736.949219\n",
      "15      1000029  P00111542  13166.423828\n",
      "16      1000033  P00121042  15811.344727\n",
      "17      1000033  P00344442   6019.159180\n",
      "18      1000034  P00265242   7724.531250\n",
      "19      1000035   P0096642  10922.911133\n",
      "20      1000036  P00303042   6883.804688\n",
      "21      1000036  P00059642  15128.433594\n",
      "22      1000042  P00030842  14829.981445\n",
      "23      1000045  P00346442  11236.896484\n",
      "24      1000045  P00357242   5779.479492\n",
      "25      1000045  P00284742   6068.187012\n",
      "26      1000048  P00110842  15942.547852\n",
      "27      1000048  P00251642   9359.730469\n",
      "28      1000053  P00136742  14504.949219\n",
      "29      1000053   P0097342  13618.897461\n",
      "...         ...        ...           ...\n",
      "233569  1005996  P00184242  16486.650391\n",
      "233570  1005996  P00045342  11845.574219\n",
      "233571  1006001  P00124642  15090.599609\n",
      "233572  1006002  P00121142   8559.880859\n",
      "233573  1006002  P00233542  14031.758789\n",
      "233574  1006002  P00226342   5133.806641\n",
      "233575  1006002  P00284842  15653.131836\n",
      "233576  1006003  P00313342   6760.653809\n",
      "233577  1006010  P00223542  14445.941406\n",
      "233578  1006013  P00020342  10577.417969\n",
      "233579  1006016  P00014842   9931.306641\n",
      "233580  1006016  P00109542   7312.892578\n",
      "233581  1006018  P00071442  18633.371094\n",
      "233582  1006021  P00112542  15682.200195\n",
      "233583  1006021  P00003442   2357.438232\n",
      "233584  1006023  P00262242  12507.671875\n",
      "233585  1006025  P00161142   3581.994141\n",
      "233586  1006026  P00110742  16268.005859\n",
      "233587  1006028  P00162442  12310.365234\n",
      "233588  1006030  P00129842  15145.045898\n",
      "233589  1006030  P00241442  10617.435547\n",
      "233590  1006032  P00252442   7301.714355\n",
      "233591  1006033  P00127642  14735.732422\n",
      "233592  1006035  P00135742  13808.451172\n",
      "233593  1006036  P00255442   6797.984375\n",
      "233594  1006036  P00118942   7626.685059\n",
      "233595  1006036  P00254642   5821.574219\n",
      "233596  1006036  P00031842  10220.858398\n",
      "233597  1006037  P00124742  17770.888672\n",
      "233598  1006039  P00316642   2683.623047\n",
      "\n",
      "[233599 rows x 3 columns]\n"
     ]
    }
   ],
   "source": [
    "print(submission)"
   ]
  },
  {
   "cell_type": "code",
   "execution_count": 84,
   "metadata": {},
   "outputs": [],
   "source": [
    "submission.to_csv(r'C:\\Users\\sk\\AnacondaProjects\\blackfriday\\submit_xgboost.csv',index=False)"
   ]
  },
  {
   "cell_type": "code",
   "execution_count": 96,
   "metadata": {},
   "outputs": [
    {
     "name": "stdout",
     "output_type": "stream",
     "text": [
      "[0]\ttrain-rmse:8326.14+2.94996\ttest-rmse:8326.19+12.3312\n",
      "[1]\ttrain-rmse:7658.58+58.8422\ttest-rmse:7658.65+65.6778\n",
      "[2]\ttrain-rmse:7068.71+97.7133\ttest-rmse:7068.81+95.8446\n",
      "[3]\ttrain-rmse:6533.33+57.0043\ttest-rmse:6533.22+53.5358\n",
      "[4]\ttrain-rmse:6044.63+94.8667\ttest-rmse:6044.49+91.2869\n",
      "[5]\ttrain-rmse:5612.83+82.9465\ttest-rmse:5612.89+78.2282\n",
      "[6]\ttrain-rmse:5264.58+40.8786\ttest-rmse:5264.96+37.0614\n",
      "[7]\ttrain-rmse:4946.07+68.307\ttest-rmse:4946.5+68.4038\n",
      "[8]\ttrain-rmse:4635.86+57.7096\ttest-rmse:4636.49+58.0789\n",
      "[9]\ttrain-rmse:4402.8+47.4362\ttest-rmse:4403.62+49.6353\n",
      "[10]\ttrain-rmse:4181.28+58.8049\ttest-rmse:4182.38+63.6757\n",
      "[11]\ttrain-rmse:4030.2+72.374\ttest-rmse:4031.4+75.6029\n",
      "[12]\ttrain-rmse:3877.62+72.8604\ttest-rmse:3879.07+76.321\n",
      "[13]\ttrain-rmse:3718.02+60.9663\ttest-rmse:3719.67+63.9805\n",
      "[14]\ttrain-rmse:3581.36+52.409\ttest-rmse:3583.23+54.9733\n",
      "[15]\ttrain-rmse:3471.24+39.3609\ttest-rmse:3473.23+41.6566\n",
      "[16]\ttrain-rmse:3388.44+26.5429\ttest-rmse:3390.4+29.8892\n",
      "[17]\ttrain-rmse:3317.65+38.239\ttest-rmse:3319.79+41.9152\n",
      "[18]\ttrain-rmse:3252.39+27.5969\ttest-rmse:3254.8+30.0134\n",
      "[19]\ttrain-rmse:3194.03+23.799\ttest-rmse:3196.53+23.6344\n",
      "[20]\ttrain-rmse:3144.4+27.2086\ttest-rmse:3147.28+28.1877\n",
      "[21]\ttrain-rmse:3107.55+30.1954\ttest-rmse:3110.72+32.1205\n",
      "[22]\ttrain-rmse:3066.92+25.6749\ttest-rmse:3070.19+27.4261\n",
      "[23]\ttrain-rmse:3038.62+28.628\ttest-rmse:3042.11+30.318\n",
      "[24]\ttrain-rmse:3015.13+21.7128\ttest-rmse:3018.61+23.6893\n",
      "[25]\ttrain-rmse:2996.24+23.3792\ttest-rmse:2999.87+25.9213\n",
      "[26]\ttrain-rmse:2979.63+25.1629\ttest-rmse:2983.32+26.699\n",
      "[27]\ttrain-rmse:2965+27.0161\ttest-rmse:2968.91+28.8836\n",
      "[28]\ttrain-rmse:2948.46+21.8558\ttest-rmse:2952.48+23.7405\n",
      "[29]\ttrain-rmse:2937.48+22.5004\ttest-rmse:2941.71+25.1251\n",
      "[30]\ttrain-rmse:2925.15+18.2788\ttest-rmse:2929.38+20.6895\n",
      "[31]\ttrain-rmse:2914.2+14.864\ttest-rmse:2918.62+17.6084\n",
      "[32]\ttrain-rmse:2905.16+12.0713\ttest-rmse:2909.7+14.0088\n",
      "[33]\ttrain-rmse:2898.74+12.962\ttest-rmse:2903.38+15.0666\n",
      "[34]\ttrain-rmse:2891.52+11.8685\ttest-rmse:2896.31+13.1912\n",
      "[35]\ttrain-rmse:2885.42+12.4192\ttest-rmse:2890.32+13.9588\n",
      "[36]\ttrain-rmse:2878.31+11.2822\ttest-rmse:2883.29+12.4866\n",
      "[37]\ttrain-rmse:2872.63+9.94459\ttest-rmse:2877.65+10.5004\n",
      "[38]\ttrain-rmse:2865.87+9.15924\ttest-rmse:2870.88+10.7766\n",
      "[39]\ttrain-rmse:2860.79+8.72048\ttest-rmse:2865.96+10.7477\n",
      "[40]\ttrain-rmse:2857.04+7.5319\ttest-rmse:2862.36+9.52433\n",
      "[41]\ttrain-rmse:2853.45+7.47412\ttest-rmse:2858.9+9.93337\n",
      "[42]\ttrain-rmse:2849.48+6.89842\ttest-rmse:2855.13+9.8129\n",
      "[43]\ttrain-rmse:2845.29+5.82985\ttest-rmse:2851.08+8.78434\n",
      "[44]\ttrain-rmse:2841.95+5.66986\ttest-rmse:2847.89+8.31548\n",
      "[45]\ttrain-rmse:2838.45+5.17979\ttest-rmse:2844.42+9.28446\n",
      "[46]\ttrain-rmse:2834.71+4.28052\ttest-rmse:2840.68+9.66907\n",
      "[47]\ttrain-rmse:2831.06+4.44687\ttest-rmse:2837.12+9.78329\n",
      "[48]\ttrain-rmse:2828.14+3.99854\ttest-rmse:2834.33+10.0635\n",
      "[49]\ttrain-rmse:2825.42+4.16476\ttest-rmse:2831.66+10.7497\n",
      "test-rmse-mean     3683.411766\n",
      "test-rmse-std        32.376238\n",
      "train-rmse-mean    3680.159913\n",
      "train-rmse-std       30.239733\n",
      "dtype: float64 test-rmse-mean     1358.989243\n",
      "test-rmse-std        24.507392\n",
      "train-rmse-mean    1360.654710\n",
      "train-rmse-std       25.645301\n",
      "dtype: float64\n"
     ]
    }
   ],
   "source": [
    "\n",
    "early_stopping=10\n",
    "cv=xgb.cv (params,xgtrain,50,nfold=5,early_stopping_rounds=early_stopping, verbose_eval=1)\n",
    "print(cv.mean(),cv.std())"
   ]
  },
  {
   "cell_type": "code",
   "execution_count": 97,
   "metadata": {},
   "outputs": [],
   "source": [
    "#second model\n",
    "transformer = TfidfTransformer()\n",
    "tfidf = transformer.fit_transform(input.astype(int))"
   ]
  },
  {
   "cell_type": "code",
   "execution_count": 98,
   "metadata": {},
   "outputs": [
    {
     "data": {
      "text/plain": [
       "<783667x11 sparse matrix of type '<class 'numpy.float64'>'\n",
       "\twith 7318716 stored elements in Compressed Sparse Row format>"
      ]
     },
     "execution_count": 98,
     "metadata": {},
     "output_type": "execute_result"
    }
   ],
   "source": [
    "tfidf"
   ]
  },
  {
   "cell_type": "code",
   "execution_count": 99,
   "metadata": {},
   "outputs": [],
   "source": [
    "input_tfidf=tfidf.toarray()"
   ]
  },
  {
   "cell_type": "code",
   "execution_count": 100,
   "metadata": {},
   "outputs": [],
   "source": [
    "params = {}\n",
    "params[\"min_child_weight\"] = 10\n",
    "params[\"subsample\"] = 0.7\n",
    "params[\"colsample_bytree\"] = 0.7\n",
    "params[\"scale_pos_weight\"] = 0.8\n",
    "params[\"silent\"] = 1\n",
    "params[\"max_depth\"] = 12\n",
    "params[\"nthread\"] = 6\n",
    "#params[\"gamma\"] = 1\n",
    "params[\"objective\"] = \"reg:linear\"\n",
    "params[\"eta\"] = 0.1\n",
    "params[\"base_score\"] = 1800\n",
    "params[\"eval_metric\"] = \"rmse\"\n",
    "params[\"seed\"] = 0\n",
    "\n",
    "plst = list(params.items())\n",
    "num_rounds = 1800"
   ]
  },
  {
   "cell_type": "code",
   "execution_count": 101,
   "metadata": {},
   "outputs": [],
   "source": [
    "xgtrain = xgb.DMatrix(input_tfidf[:train.shape[0],:], label=target[:train.shape[0]])\n",
    "watchlist = [(xgtrain, 'train')]\n",
    "model_1_xgboost = xgb.train(plst, xgtrain, num_rounds)"
   ]
  },
  {
   "cell_type": "code",
   "execution_count": 102,
   "metadata": {},
   "outputs": [
    {
     "name": "stdout",
     "output_type": "stream",
     "text": [
      "[0]\ttrain-rmse:8318.54+3.09273\ttest-rmse:8323.19+12.3731\n",
      "[1]\ttrain-rmse:7689.1+47.102\ttest-rmse:7697.18+55.4565\n",
      "[2]\ttrain-rmse:7125.53+68.7822\ttest-rmse:7137.25+69.2255\n",
      "[3]\ttrain-rmse:6627.9+40.0221\ttest-rmse:6643.88+40.8092\n",
      "[4]\ttrain-rmse:6175.9+65.1232\ttest-rmse:6195.91+63.7328\n",
      "[5]\ttrain-rmse:5776.98+51.2547\ttest-rmse:5801.85+48.7318\n",
      "[6]\ttrain-rmse:5447.59+24.8923\ttest-rmse:5478.13+24.7198\n",
      "[7]\ttrain-rmse:5148.19+44.0996\ttest-rmse:5184.01+47.4186\n",
      "[8]\ttrain-rmse:4866.61+37.4918\ttest-rmse:4907.48+41.2358\n",
      "[9]\ttrain-rmse:4651.28+34.7541\ttest-rmse:4698.26+41.0349\n",
      "[10]\ttrain-rmse:4450.4+49.9343\ttest-rmse:4502.92+58.1262\n",
      "[11]\ttrain-rmse:4301.06+56.1844\ttest-rmse:4360.29+62.8836\n",
      "[12]\ttrain-rmse:4159.44+58.9134\ttest-rmse:4224.78+65.0268\n",
      "[13]\ttrain-rmse:4018.34+51.1001\ttest-rmse:4089.49+57.13\n",
      "[14]\ttrain-rmse:3895.85+41.6571\ttest-rmse:3972.26+48.3499\n",
      "[15]\ttrain-rmse:3792.96+33.6571\ttest-rmse:3874.42+40.1782\n",
      "[16]\ttrain-rmse:3716.04+23.4102\ttest-rmse:3803.48+32.7461\n",
      "[17]\ttrain-rmse:3646.4+34.9641\ttest-rmse:3739.14+43.7222\n",
      "[18]\ttrain-rmse:3583.83+26.7708\ttest-rmse:3681.92+34.6275\n",
      "[19]\ttrain-rmse:3527.51+22.5633\ttest-rmse:3630.7+27.3406\n",
      "[20]\ttrain-rmse:3479.85+26.396\ttest-rmse:3587.76+31.8821\n",
      "[21]\ttrain-rmse:3440.71+30.1039\ttest-rmse:3553.74+35.8289\n",
      "[22]\ttrain-rmse:3400.79+24.7175\ttest-rmse:3517.99+29.7281\n",
      "[23]\ttrain-rmse:3369.04+30.1254\ttest-rmse:3490.84+34.9184\n",
      "[24]\ttrain-rmse:3343.12+20.7291\ttest-rmse:3469.05+25.5909\n",
      "[25]\ttrain-rmse:3320.15+22.1416\ttest-rmse:3450.47+28.0353\n",
      "[26]\ttrain-rmse:3298.18+26.137\ttest-rmse:3432.89+29.3439\n",
      "[27]\ttrain-rmse:3278.87+26.9753\ttest-rmse:3418.19+32.37\n",
      "[28]\ttrain-rmse:3258.6+19.9434\ttest-rmse:3401.53+26.9768\n",
      "[29]\ttrain-rmse:3241.94+23.6584\ttest-rmse:3388.62+30.6831\n",
      "[30]\ttrain-rmse:3226.83+19.729\ttest-rmse:3377.37+26.3304\n",
      "[31]\ttrain-rmse:3209.03+11.7\ttest-rmse:3363.25+20.2643\n",
      "[32]\ttrain-rmse:3191.33+10.5292\ttest-rmse:3349.69+16.5469\n",
      "[33]\ttrain-rmse:3178.96+12.0602\ttest-rmse:3341.15+21.4729\n",
      "[34]\ttrain-rmse:3169.38+9.43853\ttest-rmse:3335.11+19.2338\n",
      "[35]\ttrain-rmse:3159.59+12.3419\ttest-rmse:3328.41+20.7462\n",
      "[36]\ttrain-rmse:3144.52+13.8278\ttest-rmse:3316.7+22.9584\n",
      "[37]\ttrain-rmse:3135.61+11.9506\ttest-rmse:3310.91+20.9901\n",
      "[38]\ttrain-rmse:3122.44+8.5509\ttest-rmse:3301.16+17.5991\n",
      "[39]\ttrain-rmse:3112.33+7.18661\ttest-rmse:3294.2+16.1556\n",
      "[40]\ttrain-rmse:3104.14+5.75544\ttest-rmse:3288.88+14.4575\n",
      "[41]\ttrain-rmse:3096.74+6.17315\ttest-rmse:3284.81+15.7919\n",
      "[42]\ttrain-rmse:3091.37+7.03155\ttest-rmse:3282.01+16.4228\n",
      "[43]\ttrain-rmse:3082.73+7.0272\ttest-rmse:3277.13+16.936\n",
      "[44]\ttrain-rmse:3071.77+10.1638\ttest-rmse:3269.43+19.6104\n",
      "[45]\ttrain-rmse:3063.08+11.9435\ttest-rmse:3263.48+20.5079\n",
      "[46]\ttrain-rmse:3054.79+11.3728\ttest-rmse:3258.07+20.1362\n",
      "[47]\ttrain-rmse:3049.15+10.9454\ttest-rmse:3254.99+19.8825\n",
      "[48]\ttrain-rmse:3043.75+10.3665\ttest-rmse:3252.16+19.2967\n",
      "[49]\ttrain-rmse:3038.25+7.31256\ttest-rmse:3248.98+16.5108\n",
      "test-rmse-mean     4053.110358\n",
      "test-rmse-std        32.041540\n",
      "train-rmse-mean    3933.930259\n",
      "train-rmse-std       25.442070\n",
      "dtype: float64 test-rmse-mean     1241.192400\n",
      "test-rmse-std        15.390820\n",
      "train-rmse-mean    1295.122801\n",
      "train-rmse-std       17.235993\n",
      "dtype: float64\n"
     ]
    }
   ],
   "source": [
    "model_1_predict = model_1_xgboost.predict(xgb.DMatrix(input_tfidf[train.shape[0]:,:]))\n",
    "model_1_predict[model_1_predict<0] = 25\n",
    "submission.Purchase = model_1_predict\n",
    "submission.to_csv(r'C:\\Users\\sk\\AnacondaProjects\\blackfriday\\submit_xgboost_tfidf.csv',index=False)\n",
    "\n",
    "early_stopping=10\n",
    "cv=xgb.cv(params,xgtrain,50,nfold=5,early_stopping_rounds=early_stopping, verbose_eval=1)\n",
    "print(cv.mean(),cv.std())"
   ]
  },
  {
   "cell_type": "code",
   "execution_count": 103,
   "metadata": {},
   "outputs": [],
   "source": [
    "#third model\n",
    "input_w_tfidf=np.concatenate((input,input_tfidf),axis=1)"
   ]
  },
  {
   "cell_type": "code",
   "execution_count": 104,
   "metadata": {},
   "outputs": [
    {
     "name": "stdout",
     "output_type": "stream",
     "text": [
      "[0]\ttrain-rmse:8256.93+2.54563\ttest-rmse:8257.18+12.6469\n",
      "[1]\ttrain-rmse:7567.19+37.7388\ttest-rmse:7567.56+37.3852\n",
      "[2]\ttrain-rmse:6978.68+78.2502\ttest-rmse:6979.53+79.2647\n",
      "[3]\ttrain-rmse:6428.05+92.9816\ttest-rmse:6429.48+95.0165\n",
      "[4]\ttrain-rmse:5932.77+73.4161\ttest-rmse:5934.73+73.9507\n",
      "[5]\ttrain-rmse:5495.05+63.4562\ttest-rmse:5497.49+62.3264\n",
      "[6]\ttrain-rmse:5130.84+60.4316\ttest-rmse:5133.67+55.1301\n",
      "[7]\ttrain-rmse:4798.5+35.7103\ttest-rmse:4802.25+30.1517\n",
      "[8]\ttrain-rmse:4517.22+35.7841\ttest-rmse:4521.76+36.8793\n",
      "[9]\ttrain-rmse:4264.1+21.7762\ttest-rmse:4269.43+21.43\n",
      "[10]\ttrain-rmse:4045.9+21.0686\ttest-rmse:4051.84+21.7542\n",
      "[11]\ttrain-rmse:3845.34+18.9074\ttest-rmse:3852.09+19.3222\n",
      "[12]\ttrain-rmse:3681.18+24.9011\ttest-rmse:3688.73+20.8567\n",
      "[13]\ttrain-rmse:3540.75+31.3852\ttest-rmse:3549.22+25.5737\n",
      "[14]\ttrain-rmse:3424.42+27.1194\ttest-rmse:3433.88+21.9143\n",
      "[15]\ttrain-rmse:3324.69+23.5498\ttest-rmse:3335.3+19.2145\n",
      "[16]\ttrain-rmse:3240.65+28.6902\ttest-rmse:3252.45+26.2518\n",
      "[17]\ttrain-rmse:3163.91+23.8616\ttest-rmse:3176.74+21.2533\n",
      "[18]\ttrain-rmse:3105.16+28.9742\ttest-rmse:3118.65+25.4111\n",
      "[19]\ttrain-rmse:3051.73+22.0576\ttest-rmse:3066.02+18.3681\n",
      "[20]\ttrain-rmse:3007.29+15.6686\ttest-rmse:3022.45+12.3736\n",
      "[21]\ttrain-rmse:2971.3+18.9595\ttest-rmse:2987.36+14.1207\n",
      "[22]\ttrain-rmse:2942.99+16.8411\ttest-rmse:2960.04+13.4103\n",
      "[23]\ttrain-rmse:2913.68+12.9256\ttest-rmse:2931.53+9.64316\n",
      "[24]\ttrain-rmse:2888.7+10.1171\ttest-rmse:2907.55+6.85458\n",
      "[25]\ttrain-rmse:2866.8+9.83449\ttest-rmse:2886.44+6.00279\n",
      "[26]\ttrain-rmse:2849.16+8.38024\ttest-rmse:2869.7+5.46996\n",
      "[27]\ttrain-rmse:2833.19+7.94638\ttest-rmse:2854.51+4.94431\n",
      "[28]\ttrain-rmse:2820.71+8.08881\ttest-rmse:2842.83+4.29523\n",
      "[29]\ttrain-rmse:2810.16+8.07941\ttest-rmse:2833.17+2.60234\n",
      "[30]\ttrain-rmse:2800.63+8.10712\ttest-rmse:2824.38+2.69697\n",
      "[31]\ttrain-rmse:2790.45+7.75822\ttest-rmse:2815.03+2.48388\n",
      "[32]\ttrain-rmse:2782.3+7.68633\ttest-rmse:2807.66+2.03167\n",
      "[33]\ttrain-rmse:2774.2+7.47882\ttest-rmse:2800.44+2.90684\n",
      "[34]\ttrain-rmse:2767.8+7.49409\ttest-rmse:2794.96+3.42931\n",
      "[35]\ttrain-rmse:2760.74+7.93401\ttest-rmse:2788.64+4.15542\n",
      "[36]\ttrain-rmse:2755.53+7.4285\ttest-rmse:2784.01+4.31222\n",
      "[37]\ttrain-rmse:2749.73+6.68784\ttest-rmse:2779+4.13523\n",
      "[38]\ttrain-rmse:2745.27+6.90466\ttest-rmse:2775.33+3.67143\n",
      "[39]\ttrain-rmse:2740.57+6.23484\ttest-rmse:2771.3+3.91662\n",
      "[40]\ttrain-rmse:2736.76+6.45093\ttest-rmse:2768.28+4.01849\n",
      "[41]\ttrain-rmse:2732.96+6.15627\ttest-rmse:2765.44+4.59394\n",
      "[42]\ttrain-rmse:2728.93+5.65162\ttest-rmse:2762.3+5.2007\n",
      "[43]\ttrain-rmse:2725.05+5.23347\ttest-rmse:2759.24+6.51035\n",
      "[44]\ttrain-rmse:2721.72+5.37483\ttest-rmse:2756.61+6.63765\n",
      "[45]\ttrain-rmse:2718.63+5.47661\ttest-rmse:2754.32+7.4519\n",
      "[46]\ttrain-rmse:2715.4+5.98164\ttest-rmse:2751.74+7.2086\n",
      "[47]\ttrain-rmse:2711.87+5.45478\ttest-rmse:2748.77+7.63298\n",
      "[48]\ttrain-rmse:2708.83+5.50094\ttest-rmse:2746.38+7.20726\n",
      "[49]\ttrain-rmse:2705.3+5.81869\ttest-rmse:2743.63+7.19322\n",
      "test-rmse-mean     3570.220081\n",
      "test-rmse-std        18.024261\n",
      "train-rmse-mean    3551.393657\n",
      "train-rmse-std       20.005225\n",
      "dtype: float64 test-rmse-mean     1359.658339\n",
      "test-rmse-std        21.180805\n",
      "train-rmse-mean    1368.857679\n",
      "train-rmse-std       20.748835\n",
      "dtype: float64\n"
     ]
    }
   ],
   "source": [
    "params = {}\n",
    "params[\"min_child_weight\"] = 10\n",
    "params[\"subsample\"] = 0.7\n",
    "params[\"colsample_bytree\"] = 0.7\n",
    "params[\"scale_pos_weight\"] = 0.8\n",
    "params[\"silent\"] = 1\n",
    "params[\"max_depth\"] = 8\n",
    "params[\"nthread\"] = 6\n",
    "#params[\"gamma\"] = 1\n",
    "params[\"objective\"] = \"reg:linear\"\n",
    "params[\"eta\"] = 0.1\n",
    "params[\"base_score\"] = 1800\n",
    "params[\"eval_metric\"] = \"rmse\"\n",
    "params[\"seed\"] = 0\n",
    "\n",
    "plst = list(params.items())\n",
    "num_rounds = 1750\n",
    "\n",
    "xgtrain=xgb.DMatrix(input_w_tfidf[:train.shape[0],:],label=target[:train.shape[0]])\n",
    "watchlist=[(xgtrain,'train')]\n",
    "model_1_xgboost = xgb.train(plst, xgtrain, num_rounds)\n",
    "\n",
    "model_1_predict = model_1_xgboost.predict(xgb.DMatrix(input_w_tfidf[train.shape[0]:,:]))\n",
    "model_1_predict[model_1_predict<0] = 25\n",
    "submission.Purchase = model_1_predict\n",
    "submission.to_csv(r\"C:\\Users\\sk\\AnacondaProjects\\blackfriday\\third_model.csv\", index=False)\n",
    "\n",
    "early_stopping=10\n",
    "cv=xgb.cv(params,xgtrain,50,nfold=5,early_stopping_rounds=early_stopping, verbose_eval=1)\n",
    "print(cv.mean(),cv.std())"
   ]
  },
  {
   "cell_type": "code",
   "execution_count": 105,
   "metadata": {},
   "outputs": [
    {
     "name": "stdout",
     "output_type": "stream",
     "text": [
      "(550068, 12) (324731, 12)\n"
     ]
    }
   ],
   "source": [
    "print (train.shape, train[train.Marital_Status==0].shape)"
   ]
  },
  {
   "cell_type": "code",
   "execution_count": 106,
   "metadata": {},
   "outputs": [
    {
     "name": "stderr",
     "output_type": "stream",
     "text": [
      "[Parallel(n_jobs=6)]: Done  38 tasks      | elapsed:   45.8s\n",
      "[Parallel(n_jobs=6)]: Done 188 tasks      | elapsed:  3.5min\n",
      "[Parallel(n_jobs=6)]: Done 438 tasks      | elapsed:  7.8min\n",
      "[Parallel(n_jobs=6)]: Done 788 tasks      | elapsed: 15.2min\n",
      "[Parallel(n_jobs=6)]: Done 1238 tasks      | elapsed: 26.1min\n",
      "[Parallel(n_jobs=6)]: Done 1450 out of 1450 | elapsed: 29.9min finished\n"
     ]
    },
    {
     "data": {
      "text/plain": [
       "ExtraTreesRegressor(bootstrap=True, criterion='mse', max_depth=8,\n",
       "          max_features='auto', max_leaf_nodes=None,\n",
       "          min_impurity_decrease=0.0, min_impurity_split=None,\n",
       "          min_samples_leaf=10, min_samples_split=10,\n",
       "          min_weight_fraction_leaf=0.0, n_estimators=1450, n_jobs=6,\n",
       "          oob_score=True, random_state=123, verbose=1, warm_start=False)"
      ]
     },
     "execution_count": 106,
     "metadata": {},
     "output_type": "execute_result"
    }
   ],
   "source": [
    "#fourth model\n",
    "model_4_et = ExtraTreesRegressor(n_estimators=1450, max_depth=8,min_samples_split=10, min_samples_leaf=10, oob_score=True, n_jobs=6, random_state=123, verbose=1, bootstrap=True)\n",
    "model_4_et.fit(input_w_tfidf[:train.shape[0],:], target[:train.shape[0]])"
   ]
  },
  {
   "cell_type": "code",
   "execution_count": 107,
   "metadata": {},
   "outputs": [
    {
     "name": "stderr",
     "output_type": "stream",
     "text": [
      "[Parallel(n_jobs=6)]: Done  38 tasks      | elapsed:    0.2s\n",
      "[Parallel(n_jobs=6)]: Done 188 tasks      | elapsed:    1.1s\n",
      "[Parallel(n_jobs=6)]: Done 438 tasks      | elapsed:    2.7s\n",
      "[Parallel(n_jobs=6)]: Done 788 tasks      | elapsed:    5.1s\n",
      "[Parallel(n_jobs=6)]: Done 1238 tasks      | elapsed:    8.1s\n",
      "[Parallel(n_jobs=6)]: Done 1450 out of 1450 | elapsed:    9.4s finished\n"
     ]
    }
   ],
   "source": [
    "model_4_predict = model_4_et.predict(input_w_tfidf[train.shape[0]:,:])"
   ]
  },
  {
   "cell_type": "code",
   "execution_count": 108,
   "metadata": {},
   "outputs": [],
   "source": [
    "submission.Purchase = model_4_predict\n",
    "submission.to_csv(r\"C:\\Users\\sk\\AnacondaProjects\\blackfriday\\fourth_model.csv\", index=False)"
   ]
  },
  {
   "cell_type": "code",
   "execution_count": 109,
   "metadata": {},
   "outputs": [
    {
     "name": "stdout",
     "output_type": "stream",
     "text": [
      "4124.88950007\n",
      "4057.15709681\n",
      "4267.88371959\n",
      "3727.30867414\n",
      "1023.26036168\n"
     ]
    }
   ],
   "source": [
    "from sklearn.metrics import mean_squared_error\n",
    "import pandas as pd\n",
    "import numpy as np\n",
    "temp=pd.read_csv('Sample_Submission.csv')\n",
    "temp_sample=temp['Purchase']\n",
    "temp=pd.read_csv('submit_xgboost.csv')\n",
    "temp_first=temp['Purchase']\n",
    "print (np.sqrt(mean_squared_error(temp_sample, temp_first)))\n",
    "temp=pd.read_csv('submit_xgboost_tfidf.csv')\n",
    "temp_second=temp['Purchase']\n",
    "print (np.sqrt(mean_squared_error(temp_sample, temp_second)))\n",
    "temp=pd.read_csv('third_model.csv')\n",
    "temp_third=temp['Purchase']\n",
    "print (np.sqrt(mean_squared_error(temp_sample, temp_third)))\n",
    "temp=pd.read_csv('fourth_model.csv')\n",
    "temp_fourth=temp['Purchase']\n",
    "print (np.sqrt(mean_squared_error(temp_sample, temp_fourth)))\n",
    "print (np.sqrt(mean_squared_error(temp_fourth, temp_first)))"
   ]
  },
  {
   "cell_type": "code",
   "execution_count": 113,
   "metadata": {},
   "outputs": [
    {
     "data": {
      "image/png": "[encoded data removed]",
      "text/plain": [
       "<matplotlib.figure.Figure at 0x1aa037e7e80>"
      ]
     },
     "metadata": {},
     "output_type": "display_data"
    },
    {
     "data": {
      "image/png": "[encoded data removed]",
      "text/plain": [
       "<matplotlib.figure.Figure at 0x1aa033929e8>"
      ]
     },
     "metadata": {},
     "output_type": "display_data"
    },
    {
     "data": {
      "image/png": "[encoded data removed]",
      "text/plain": [
       "<matplotlib.figure.Figure at 0x1aa0294e390>"
      ]
     },
     "metadata": {},
     "output_type": "display_data"
    },
    {
     "data": {
      "image/png": "[encoded data removed]",
      "text/plain": [
       "<matplotlib.figure.Figure at 0x1aa0330a828>"
      ]
     },
     "metadata": {},
     "output_type": "display_data"
    },
    {
     "data": {
      "image/png": "[encoded data removed]",
      "text/plain": [
       "<matplotlib.figure.Figure at 0x1aa030290b8>"
      ]
     },
     "metadata": {},
     "output_type": "display_data"
    }
   ],
   "source": [
    "import matplotlib.pyplot as plt\n",
    "import pandas as pd\n",
    "temp=pd.read_csv('Sample_Submission.csv')\n",
    "temp_first=pd.read_csv('submit_xgboost.csv')\n",
    "x1=temp_first['User_ID'].astype(int)\n",
    "plt.plot(x1[:100],temp_first['Purchase'][:100],color='red')\n",
    "x=temp['User_ID'].astype(int)\n",
    "plt.plot(x[:100],temp['Purchase'][:100],color='blue')\n",
    "plt.show()\n",
    "\n",
    "temp_second=pd.read_csv('submit_xgboost_tfidf.csv')\n",
    "x2=temp_second['User_ID'].astype(int)\n",
    "plt.plot(x2[:100],temp_second['Purchase'][:100],color='red')\n",
    "plt.plot(x[:100],temp['Purchase'][:100],color='blue')\n",
    "plt.show()\n",
    "\n",
    "temp_third=pd.read_csv('third_model.csv')\n",
    "x3=temp_third['User_ID'].astype(int)\n",
    "plt.plot(x3[:100],temp_third['Purchase'][:100],color='red')\n",
    "plt.plot(x[:100],temp['Purchase'][:100],color='blue')\n",
    "plt.show()\n",
    "\n",
    "temp_fourth=pd.read_csv('fourth_model.csv')\n",
    "x4=temp_fourth['User_ID'].astype(int)\n",
    "plt.plot(x4[:100],temp_fourth['Purchase'][:100],color='red')\n",
    "plt.plot(x[:100],temp['Purchase'][:100],color='blue')\n",
    "plt.show()\n",
    "\n",
    "\n",
    "#plotting all together\n",
    "\n",
    "plt.plot(x1[:100],temp_first['Purchase'][:100],color='red',label='Model1')\n",
    "plt.plot(x2[:100],temp_second['Purchase'][:100],color='green',label='Model2')\n",
    "plt.plot(x3[:100],temp_third['Purchase'][:100],color='cyan',label='Model3')\n",
    "plt.plot(x4[:100],temp_fourth['Purchase'][:100],color='black',label='Model4')\n",
    "plt.plot(x[:100],temp['Purchase'][:100],color='blue',label='Original')\n",
    "plt.legend(loc='best')\n",
    "plt.xlabel('Users')\n",
    "plt.ylabel('Purchase')\n",
    "plt.show()"
   ]
  },
  {
   "cell_type": "code",
   "execution_count": null,
   "metadata": {},
   "outputs": [],
   "source": []
  }
 ],
 "metadata": {
  "kernelspec": {
   "display_name": "Python 3",
   "language": "python",
   "name": "python3"
  },
  "language_info": {
   "codemirror_mode": {
    "name": "ipython",
    "version": 3
   },
   "file_extension": ".py",
   "mimetype": "text/x-python",
   "name": "python",
   "nbconvert_exporter": "python",
   "pygments_lexer": "ipython3",
   "version": "3.6.4"
  }
 },
 "nbformat": 4,
 "nbformat_minor": 2
}
